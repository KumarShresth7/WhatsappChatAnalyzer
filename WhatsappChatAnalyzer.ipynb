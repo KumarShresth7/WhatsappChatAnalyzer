{
 "cells": [
  {
   "cell_type": "code",
   "execution_count": 2,
   "id": "2d7dd672-8577-4fa3-84dc-f363f66fb4ff",
   "metadata": {},
   "outputs": [
    {
     "name": "stdout",
     "output_type": "stream",
     "text": [
      "11/5/22, 9:29 AM - Messages and calls are end-to-end encrypted. No one outside of this chat, not even WhatsApp, can read or listen to them. Tap to learn more.\n",
      "\n",
      "11/5/22, 9:29 AM - K.Shresth♠️: Bhai Proxy laga diyo...Maths aur CP mein\n",
      "\n",
      "\n",
      "\n",
      "\n",
      "\n",
      "Kumar Shresth\n",
      "\n",
      "30704\n",
      "\n",
      "11/5/22, 9:29 AM - Shankhadeep: theek theek\n",
      "\n",
      "11/5/22, 9:29 AM - K.Shresth♠️: Thnx bhai\n",
      "\n",
      "11/5/22, 9:29 AM - Shankhadeep: no problem\n",
      "\n",
      "11/7/22, 3:37 PM - K.Shresth♠️: Aaj bhi bhai plz\n",
      "\n"
     ]
    }
   ],
   "source": [
    "import pandas as pd\n",
    "with open('WhatsApp Chat with Shankhadeep.txt','r',encoding='utf-8') as file:\n",
    "    data = file.readlines()\n",
    "for line in data[:10]:\n",
    "    print(line)"
   ]
  },
  {
   "cell_type": "code",
   "execution_count": 6,
   "id": "e883bf91-a290-4b8f-afa1-d3807b59f4d7",
   "metadata": {},
   "outputs": [
    {
     "data": {
      "text/html": [
       "<div>\n",
       "<style scoped>\n",
       "    .dataframe tbody tr th:only-of-type {\n",
       "        vertical-align: middle;\n",
       "    }\n",
       "\n",
       "    .dataframe tbody tr th {\n",
       "        vertical-align: top;\n",
       "    }\n",
       "\n",
       "    .dataframe thead th {\n",
       "        text-align: right;\n",
       "    }\n",
       "</style>\n",
       "<table border=\"1\" class=\"dataframe\">\n",
       "  <thead>\n",
       "    <tr style=\"text-align: right;\">\n",
       "      <th></th>\n",
       "      <th>Date</th>\n",
       "      <th>Time</th>\n",
       "      <th>Sender</th>\n",
       "      <th>Message</th>\n",
       "    </tr>\n",
       "  </thead>\n",
       "  <tbody>\n",
       "  </tbody>\n",
       "</table>\n",
       "</div>"
      ],
      "text/plain": [
       "Empty DataFrame\n",
       "Columns: [Date, Time, Sender, Message]\n",
       "Index: []"
      ]
     },
     "execution_count": 6,
     "metadata": {},
     "output_type": "execute_result"
    }
   ],
   "source": [
    "import re\n",
    "\n",
    "# Regular expression to extract date, time, sender, and message\n",
    "pattern = r'(\\d{1,2}/\\d{1,2}/\\d{2,4}), (\\d{1,2}:\\d{2} (?:AM|PM)) - (.*?): (.*)'\n",
    "\n",
    "parsed_data = []\n",
    "for line in data:\n",
    "    match = re.match(pattern, line)\n",
    "    if match:\n",
    "        parsed_data.append(match.groups())\n",
    "\n",
    "# Convert to DataFrame\n",
    "df = pd.DataFrame(parsed_data, columns=['Date', 'Time', 'Sender', 'Message'])\n",
    "df.head()"
   ]
  },
  {
   "cell_type": "code",
   "execution_count": 7,
   "id": "e02e682a-4194-4601-8f54-c7b199cbb2c7",
   "metadata": {},
   "outputs": [
    {
     "name": "stdout",
     "output_type": "stream",
     "text": [
      "Total Messages: 0\n"
     ]
    }
   ],
   "source": [
    "total_messages = df.shape[0]\n",
    "print(f'Total Messages: {total_messages}')"
   ]
  }
 ],
 "metadata": {
  "kernelspec": {
   "display_name": "Python 3 (ipykernel)",
   "language": "python",
   "name": "python3"
  },
  "language_info": {
   "codemirror_mode": {
    "name": "ipython",
    "version": 3
   },
   "file_extension": ".py",
   "mimetype": "text/x-python",
   "name": "python",
   "nbconvert_exporter": "python",
   "pygments_lexer": "ipython3",
   "version": "3.12.5"
  }
 },
 "nbformat": 4,
 "nbformat_minor": 5
}
